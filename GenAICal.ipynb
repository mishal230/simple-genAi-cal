{
  "nbformat": 4,
  "nbformat_minor": 0,
  "metadata": {
    "colab": {
      "provenance": [],
      "authorship_tag": "ABX9TyNDJ1Jxzj5e4BxKuV3BDxnn",
      "include_colab_link": true
    },
    "kernelspec": {
      "name": "python3",
      "display_name": "Python 3"
    },
    "language_info": {
      "name": "python"
    }
  },
  "cells": [
    {
      "cell_type": "markdown",
      "metadata": {
        "id": "view-in-github",
        "colab_type": "text"
      },
      "source": [
        "<a href=\"https://colab.research.google.com/github/mishal230/simple-genAi-cal/blob/main/GenAICal.ipynb\" target=\"_parent\"><img src=\"https://colab.research.google.com/assets/colab-badge.svg\" alt=\"Open In Colab\"/></a>"
      ]
    },
    {
      "cell_type": "code",
      "execution_count": null,
      "metadata": {
        "colab": {
          "base_uri": "https://localhost:8080/"
        },
        "id": "YquycqSzQ7Ku",
        "outputId": "7427e82d-9910-4687-de6f-65345d93a4f7"
      },
      "outputs": [
        {
          "output_type": "stream",
          "name": "stdout",
          "text": [
            "Select operation:\n",
            "1. Add\n",
            "2. Subtract\n",
            "3. Multiply\n",
            "4. Divide\n",
            "Enter choice (1/2/3/4): 4\n",
            "Enter first number: 7\n",
            "Enter second number: 3\n",
            "The result of 7.0 / 3.0 is: 2.3333333333333335\n"
          ]
        }
      ],
      "source": [
        "# Simple Calculator in Google Colab\n",
        "\n",
        "# Function to perform basic operations\n",
        "def calculator():\n",
        "    print(\"Select operation:\")\n",
        "    print(\"1. Add\")\n",
        "    print(\"2. Subtract\")\n",
        "    print(\"3. Multiply\")\n",
        "    print(\"4. Divide\")\n",
        "\n",
        "    # Taking input from the user\n",
        "    choice = input(\"Enter choice (1/2/3/4): \")\n",
        "\n",
        "    # Input two numbers for the operation\n",
        "    num1 = float(input(\"Enter first number: \"))\n",
        "    num2 = float(input(\"Enter second number: \"))\n",
        "\n",
        "    # Perform the operation based on user's choice\n",
        "    if choice == '1':\n",
        "        print(f\"The result of {num1} + {num2} is: {num1 + num2}\")\n",
        "    elif choice == '2':\n",
        "        print(f\"The result of {num1} - {num2} is: {num1 - num2}\")\n",
        "    elif choice == '3':\n",
        "        print(f\"The result of {num1} * {num2} is: {num1 * num2}\")\n",
        "    elif choice == '4':\n",
        "        # Handling division by zero\n",
        "        if num2 != 0:\n",
        "            print(f\"The result of {num1} / {num2} is: {num1 / num2}\")\n",
        "        else:\n",
        "            print(\"Error! Division by zero.\")\n",
        "    else:\n",
        "        print(\"Invalid input!\")\n",
        "\n",
        "# Call the calculator function\n",
        "calculator()\n"
      ]
    },
    {
      "cell_type": "code",
      "source": [
        "!python app.py\n",
        "\n"
      ],
      "metadata": {
        "id": "AE8S82N0R_m9",
        "colab": {
          "base_uri": "https://localhost:8080/"
        },
        "outputId": "1142393f-0963-4e4b-84b7-81bbab189d1b"
      },
      "execution_count": 1,
      "outputs": [
        {
          "output_type": "stream",
          "name": "stdout",
          "text": [
            "Traceback (most recent call last):\n",
            "  File \"/content/app.py\", line 1, in <module>\n",
            "    import streamlit as st\n",
            "ModuleNotFoundError: No module named 'streamlit'\n"
          ]
        }
      ]
    }
  ]
}